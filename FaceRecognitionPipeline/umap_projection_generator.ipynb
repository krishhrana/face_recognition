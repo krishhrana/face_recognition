{
 "cells": [
  {
   "cell_type": "code",
   "execution_count": 1,
   "metadata": {},
   "outputs": [],
   "source": [
    "import tensorflow as tf \n",
    "from tensorflow.keras.models import load_model\n",
    "import tensorflow_addons as tfa\n",
    "import numpy as np\n",
    "import os\n",
    "import cv2"
   ]
  },
  {
   "cell_type": "code",
   "execution_count": 2,
   "metadata": {},
   "outputs": [
    {
     "name": "stdout",
     "output_type": "stream",
     "text": [
      "/Users/krishrana/AjnaLens/Resources/Datasets/face_recognition_with_masks_dataset/test_small/n001830\n",
      "/Users/krishrana/AjnaLens/Resources/Datasets/face_recognition_with_masks_dataset/test_small/.DS_Store\n",
      "/Users/krishrana/AjnaLens/Resources/Datasets/face_recognition_with_masks_dataset/test_small/n001710\n",
      "/Users/krishrana/AjnaLens/Resources/Datasets/face_recognition_with_masks_dataset/test_small/n001368\n",
      "1336\n"
     ]
    }
   ],
   "source": [
    "test_data=[]\n",
    "def create_test_data(directory):\n",
    "    for subdir in os.listdir(directory):\n",
    "        path=os.path.join(directory, subdir)\n",
    "        print(path)\n",
    "        try:\n",
    "            for img in os.listdir(path):\n",
    "                image_array=cv2.imread(os.path.join(path, img))\n",
    "                image_array=cv2.resize(image_array, (112,112))\n",
    "                test_data.append([image_array, subdir])\n",
    "        except Exception as e:\n",
    "            pass\n",
    "Datadir='/Users/krishrana/AjnaLens/Resources/Datasets/face_recognition_with_masks_dataset/test_small'\n",
    "create_test_data(Datadir)\n",
    "print(len(test_data))"
   ]
  },
  {
   "cell_type": "code",
   "execution_count": 3,
   "metadata": {},
   "outputs": [
    {
     "name": "stdout",
     "output_type": "stream",
     "text": [
      "(1336, 112, 112, 3)\n"
     ]
    }
   ],
   "source": [
    "X=[]\n",
    "y=[]\n",
    "for f, l in test_data:\n",
    "    f=f/255\n",
    "    X.append(f)\n",
    "    y.append(l)\n",
    "X=np.array(X).reshape(-1,112,112,3)\n",
    "print(X.shape)"
   ]
  },
  {
   "cell_type": "code",
   "execution_count": 4,
   "metadata": {},
   "outputs": [],
   "source": [
    "model=load_model('src/recognition_models/DeepMaskFacev10.h5', compile=False)\n",
    "pred=model.predict(X)\n",
    "import numpy as np\n",
    "import io\n",
    "np.savetxt(\"vecs1.tsv\", pred, delimiter='\\t')\n",
    "\n",
    "out_m = io.open('meta1.tsv', 'w', encoding='utf-8')\n",
    "for labels in (y):\n",
    "    [out_m.write(str(labels) + \"\\n\")]\n",
    "out_m.close()\n"
   ]
  },
  {
   "cell_type": "code",
   "execution_count": null,
   "metadata": {},
   "outputs": [],
   "source": []
  }
 ],
 "metadata": {
  "kernelspec": {
   "display_name": "Python 3",
   "language": "python",
   "name": "python3"
  },
  "language_info": {
   "codemirror_mode": {
    "name": "ipython",
    "version": 3
   },
   "file_extension": ".py",
   "mimetype": "text/x-python",
   "name": "python",
   "nbconvert_exporter": "python",
   "pygments_lexer": "ipython3",
   "version": "3.7.3"
  }
 },
 "nbformat": 4,
 "nbformat_minor": 2
}
