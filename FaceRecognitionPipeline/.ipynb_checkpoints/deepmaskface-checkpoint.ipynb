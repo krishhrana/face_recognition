{
 "cells": [
  {
   "cell_type": "code",
   "execution_count": null,
   "metadata": {
    "_cell_guid": "b1076dfc-b9ad-4769-8c92-a6c4dae69d19",
    "_uuid": "8f2839f25d086af736a60e9eeb907d3b93b6e0e5",
    "execution": {
     "iopub.execute_input": "2020-08-15T11:56:47.935911Z",
     "iopub.status.busy": "2020-08-15T11:56:47.935308Z",
     "iopub.status.idle": "2020-08-15T11:56:57.388233Z",
     "shell.execute_reply": "2020-08-15T11:56:57.386683Z"
    },
    "papermill": {
     "duration": 9.468229,
     "end_time": "2020-08-15T11:56:57.388408",
     "exception": false,
     "start_time": "2020-08-15T11:56:47.920179",
     "status": "completed"
    },
    "tags": []
   },
   "outputs": [],
   "source": [
    "# This Python 3 environment comes with many helpful analytics libraries installed\n",
    "# It is defined by the kaggle/python Docker image: https://github.com/kaggle/docker-python\n",
    "# For example, here's several helpful packages to load\n",
    "\n",
    "import numpy as np # linear algebra\n",
    "import pandas as pd # data processing, CSV file I/O (e.g. pd.read_csv)\n",
    "\n",
    "# Input data files are available in the read-only \"../input/\" directory\n",
    "# For example, running this (by clicking run or pressing Shift+Enter) will list all files under the input directory\n",
    "\n",
    "import os\n",
    "for dirname, _, filenames in os.walk('/kaggle/input'):\n",
    "    for filename in filenames:\n",
    "        print(os.path.join(dirname, filename))\n",
    "\n",
    "# You can write up to 5GB to the current directory (/kaggle/working/) that gets preserved as output when you create a version using \"Save & Run All\" \n",
    "# You can also write temporary files to /kaggle/temp/, but they won't be saved outside of the current session"
   ]
  },
  {
   "cell_type": "code",
   "execution_count": 2,
   "metadata": {
    "_cell_guid": "79c7e3d0-c299-4dcb-8224-4455121ee9b0",
    "_uuid": "d629ff2d2480ee46fbb7e2d37f6b5fab8052498a",
    "execution": {
     "iopub.execute_input": "2020-08-15T11:56:57.781379Z",
     "iopub.status.busy": "2020-08-15T11:56:57.780255Z",
     "iopub.status.idle": "2020-08-15T11:57:04.465165Z",
     "shell.execute_reply": "2020-08-15T11:57:04.463725Z"
    },
    "papermill": {
     "duration": 6.837264,
     "end_time": "2020-08-15T11:57:04.465349",
     "exception": false,
     "start_time": "2020-08-15T11:56:57.628085",
     "status": "completed"
    },
    "tags": []
   },
   "outputs": [],
   "source": [
    "import tensorflow as tf\n",
    "import numpy as np\n",
    "import os\n",
    "import cv2\n",
    "import tensorflow_addons as tfa"
   ]
  },
  {
   "cell_type": "code",
   "execution_count": 3,
   "metadata": {
    "execution": {
     "iopub.execute_input": "2020-08-15T11:57:04.773725Z",
     "iopub.status.busy": "2020-08-15T11:57:04.772645Z",
     "iopub.status.idle": "2020-08-15T11:57:12.672474Z",
     "shell.execute_reply": "2020-08-15T11:57:12.671213Z"
    },
    "papermill": {
     "duration": 8.047375,
     "end_time": "2020-08-15T11:57:12.672657",
     "exception": false,
     "start_time": "2020-08-15T11:57:04.625282",
     "status": "completed"
    },
    "tags": []
   },
   "outputs": [
    {
     "name": "stdout",
     "output_type": "stream",
     "text": [
      "Downloading data from https://storage.googleapis.com/tensorflow/keras-applications/mobilenet_v2/mobilenet_v2_weights_tf_dim_ordering_tf_kernels_1.0_224_no_top.h5\n",
      "9412608/9406464 [==============================] - 0s 0us/step\n"
     ]
    }
   ],
   "source": [
    "base_model = tf.keras.applications.MobileNetV2(input_shape=(112,112,3),\n",
    "                                               include_top=False,\n",
    "                                               weights='imagenet')"
   ]
  },
  {
   "cell_type": "code",
   "execution_count": null,
   "metadata": {
    "execution": {
     "iopub.execute_input": "2020-08-15T11:57:12.958484Z",
     "iopub.status.busy": "2020-08-15T11:57:12.957532Z",
     "iopub.status.idle": "2020-08-15T11:57:13.069177Z",
     "shell.execute_reply": "2020-08-15T11:57:13.065837Z"
    },
    "papermill": {
     "duration": 0.259554,
     "end_time": "2020-08-15T11:57:13.069333",
     "exception": false,
     "start_time": "2020-08-15T11:57:12.809779",
     "status": "completed"
    },
    "tags": []
   },
   "outputs": [],
   "source": [
    "base_model.trainable=True\n",
    "base_model.summary()"
   ]
  },
  {
   "cell_type": "code",
   "execution_count": 5,
   "metadata": {
    "execution": {
     "iopub.execute_input": "2020-08-15T11:57:13.394495Z",
     "iopub.status.busy": "2020-08-15T11:57:13.393592Z",
     "iopub.status.idle": "2020-08-15T11:57:16.170069Z",
     "shell.execute_reply": "2020-08-15T11:57:16.170684Z"
    },
    "papermill": {
     "duration": 2.939939,
     "end_time": "2020-08-15T11:57:16.170868",
     "exception": false,
     "start_time": "2020-08-15T11:57:13.230929",
     "status": "completed"
    },
    "tags": []
   },
   "outputs": [
    {
     "name": "stdout",
     "output_type": "stream",
     "text": [
      "Model: \"sequential\"\n",
      "_________________________________________________________________\n",
      "Layer (type)                 Output Shape              Param #   \n",
      "=================================================================\n",
      "mobilenetv2_1.00_224 (Model) (None, 4, 4, 1280)        2257984   \n",
      "_________________________________________________________________\n",
      "depthwise_conv2d (DepthwiseC (None, 1, 1, 1280)        20480     \n",
      "_________________________________________________________________\n",
      "batch_normalization (BatchNo (None, 1, 1, 1280)        5120      \n",
      "_________________________________________________________________\n",
      "conv2d (Conv2D)              (None, 1, 1, 128)         163840    \n",
      "_________________________________________________________________\n",
      "batch_normalization_1 (Batch (None, 1, 1, 128)         512       \n",
      "_________________________________________________________________\n",
      "p_re_lu (PReLU)              (None, 1, 1, 128)         128       \n",
      "_________________________________________________________________\n",
      "dropout (Dropout)            (None, 1, 1, 128)         0         \n",
      "_________________________________________________________________\n",
      "flatten (Flatten)            (None, 128)               0         \n",
      "_________________________________________________________________\n",
      "dense (Dense)                (None, 128)               16384     \n",
      "_________________________________________________________________\n",
      "lambda (Lambda)              (None, 128)               0         \n",
      "=================================================================\n",
      "Total params: 2,464,448\n",
      "Trainable params: 2,427,520\n",
      "Non-trainable params: 36,928\n",
      "_________________________________________________________________\n"
     ]
    }
   ],
   "source": [
    "model=tf.keras.Sequential([\n",
    "    base_model,\n",
    "    tf.keras.layers.DepthwiseConv2D(4, strides = 1, padding = 'valid', depth_multiplier = 1, use_bias = False),\n",
    "    tf.keras.layers.BatchNormalization(axis = -1),\n",
    "    tf.keras.layers.Conv2D(128, 1, strides = 1, padding = 'valid', use_bias = False),\n",
    "    tf.keras.layers.BatchNormalization(axis = -1),\n",
    "    tf.keras.layers.PReLU(shared_axes = [1, 2]),\n",
    "    tf.keras.layers.Dropout(0.25),\n",
    "    tf.keras.layers.Flatten(),\n",
    "    tf.keras.layers.Dense(128, activation = None, use_bias = False, kernel_initializer = 'glorot_normal'),\n",
    "    tf.keras.layers.Lambda(lambda x: tf.math.l2_normalize(x, axis=1))\n",
    "])\n",
    "\n",
    "model.summary()"
   ]
  },
  {
   "cell_type": "code",
   "execution_count": 6,
   "metadata": {
    "execution": {
     "iopub.execute_input": "2020-08-15T11:57:16.594174Z",
     "iopub.status.busy": "2020-08-15T11:57:16.588815Z",
     "iopub.status.idle": "2020-08-15T11:57:18.403587Z",
     "shell.execute_reply": "2020-08-15T11:57:18.404705Z"
    },
    "papermill": {
     "duration": 2.049461,
     "end_time": "2020-08-15T11:57:18.404905",
     "exception": false,
     "start_time": "2020-08-15T11:57:16.355444",
     "status": "completed"
    },
    "tags": []
   },
   "outputs": [
    {
     "name": "stdout",
     "output_type": "stream",
     "text": [
      "Found 20409 images belonging to 65 classes.\n",
      "Found 2238 images belonging to 65 classes.\n"
     ]
    }
   ],
   "source": [
    "from tensorflow.keras.preprocessing.image import ImageDataGenerator\n",
    "train_datagen = ImageDataGenerator(\n",
    "        rescale=1./255,\n",
    "        zoom_range=0.2,\n",
    "        horizontal_flip=True,\n",
    "        validation_split=0.1)\n",
    "\n",
    "train_generator=train_datagen.flow_from_directory(\n",
    "    '../input/vggface-large/test_large',\n",
    "    target_size=(112,112),\n",
    "    batch_size=128,\n",
    "    class_mode='sparse',\n",
    "    subset='training'\n",
    ")\n",
    "\n",
    "validation_generator = train_datagen.flow_from_directory(\n",
    "    '../input/vggface-large/test_large',\n",
    "    target_size=(112,112),\n",
    "    batch_size=128,\n",
    "    class_mode='sparse',\n",
    "    subset='validation'\n",
    "    \n",
    ")"
   ]
  },
  {
   "cell_type": "code",
   "execution_count": 7,
   "metadata": {
    "execution": {
     "iopub.execute_input": "2020-08-15T11:57:18.719746Z",
     "iopub.status.busy": "2020-08-15T11:57:18.709501Z",
     "iopub.status.idle": "2020-08-15T11:57:18.765919Z",
     "shell.execute_reply": "2020-08-15T11:57:18.766844Z"
    },
    "papermill": {
     "duration": 0.206005,
     "end_time": "2020-08-15T11:57:18.767029",
     "exception": false,
     "start_time": "2020-08-15T11:57:18.561024",
     "status": "completed"
    },
    "tags": []
   },
   "outputs": [
    {
     "name": "stdout",
     "output_type": "stream",
     "text": [
      "Model: \"sequential\"\n",
      "_________________________________________________________________\n",
      "Layer (type)                 Output Shape              Param #   \n",
      "=================================================================\n",
      "mobilenetv2_1.00_224 (Model) (None, 4, 4, 1280)        2257984   \n",
      "_________________________________________________________________\n",
      "depthwise_conv2d (DepthwiseC (None, 1, 1, 1280)        20480     \n",
      "_________________________________________________________________\n",
      "batch_normalization (BatchNo (None, 1, 1, 1280)        5120      \n",
      "_________________________________________________________________\n",
      "conv2d (Conv2D)              (None, 1, 1, 128)         163840    \n",
      "_________________________________________________________________\n",
      "batch_normalization_1 (Batch (None, 1, 1, 128)         512       \n",
      "_________________________________________________________________\n",
      "p_re_lu (PReLU)              (None, 1, 1, 128)         128       \n",
      "_________________________________________________________________\n",
      "dropout (Dropout)            (None, 1, 1, 128)         0         \n",
      "_________________________________________________________________\n",
      "flatten (Flatten)            (None, 128)               0         \n",
      "_________________________________________________________________\n",
      "dense (Dense)                (None, 128)               16384     \n",
      "_________________________________________________________________\n",
      "lambda (Lambda)              (None, 128)               0         \n",
      "=================================================================\n",
      "Total params: 2,464,448\n",
      "Trainable params: 2,427,520\n",
      "Non-trainable params: 36,928\n",
      "_________________________________________________________________\n"
     ]
    }
   ],
   "source": [
    "from tensorflow.keras.callbacks import ModelCheckpoint, ReduceLROnPlateau, EarlyStopping\n",
    "#model = tf.keras.Sequential([base_model,global_average_layer, dense_layer, dropout_layer, embedding_layer, normalize_layer])\n",
    "model.compile(optimizer=tf.keras.optimizers.Adam(0.001),loss=tfa.losses.TripletSemiHardLoss(margin=1.2))\n",
    "lr_reduce = ReduceLROnPlateau(monitor='loss', factor=0.1, patience=2, verbose=2, mode='auto')\n",
    "model.summary()\n"
   ]
  },
  {
   "cell_type": "code",
   "execution_count": 8,
   "metadata": {
    "execution": {
     "iopub.execute_input": "2020-08-15T11:57:19.091442Z",
     "iopub.status.busy": "2020-08-15T11:57:19.090571Z",
     "iopub.status.idle": "2020-08-15T14:45:33.022671Z",
     "shell.execute_reply": "2020-08-15T14:45:33.022023Z"
    },
    "papermill": {
     "duration": 10094.091517,
     "end_time": "2020-08-15T14:45:33.022847",
     "exception": false,
     "start_time": "2020-08-15T11:57:18.931330",
     "status": "completed"
    },
    "tags": []
   },
   "outputs": [
    {
     "name": "stdout",
     "output_type": "stream",
     "text": [
      "Epoch 1/100\n",
      "160/159 [==============================] - 142s 889ms/step - loss: 1.1755 - val_loss: 1.1998 - lr: 0.0010\n",
      "Epoch 2/100\n",
      "160/159 [==============================] - 99s 619ms/step - loss: 1.1422 - val_loss: 1.1784 - lr: 0.0010\n",
      "Epoch 3/100\n",
      "160/159 [==============================] - 98s 615ms/step - loss: 1.1038 - val_loss: 1.1696 - lr: 0.0010\n",
      "Epoch 4/100\n",
      "160/159 [==============================] - 97s 609ms/step - loss: 1.0840 - val_loss: 1.1720 - lr: 0.0010\n",
      "Epoch 5/100\n",
      "160/159 [==============================] - 98s 613ms/step - loss: 1.0631 - val_loss: 1.1825 - lr: 0.0010\n",
      "Epoch 6/100\n",
      "160/159 [==============================] - 98s 611ms/step - loss: 1.0418 - val_loss: 1.1358 - lr: 0.0010\n",
      "Epoch 7/100\n",
      "160/159 [==============================] - 96s 600ms/step - loss: 1.0203 - val_loss: 1.1557 - lr: 0.0010\n",
      "Epoch 8/100\n",
      "160/159 [==============================] - 97s 606ms/step - loss: 1.0054 - val_loss: 1.1825 - lr: 0.0010\n",
      "Epoch 9/100\n",
      "160/159 [==============================] - 97s 607ms/step - loss: 0.9965 - val_loss: 1.1476 - lr: 0.0010\n",
      "Epoch 10/100\n",
      "160/159 [==============================] - 96s 602ms/step - loss: 0.9715 - val_loss: 1.0976 - lr: 0.0010\n",
      "Epoch 11/100\n",
      "160/159 [==============================] - 97s 605ms/step - loss: 0.9473 - val_loss: 1.1570 - lr: 0.0010\n",
      "Epoch 12/100\n",
      "160/159 [==============================] - 96s 602ms/step - loss: 0.9276 - val_loss: 1.0542 - lr: 0.0010\n",
      "Epoch 13/100\n",
      "160/159 [==============================] - 96s 602ms/step - loss: 0.9166 - val_loss: 1.1465 - lr: 0.0010\n",
      "Epoch 14/100\n",
      "160/159 [==============================] - 97s 604ms/step - loss: 0.8965 - val_loss: 1.1321 - lr: 0.0010\n",
      "Epoch 15/100\n",
      "160/159 [==============================] - 96s 599ms/step - loss: 0.8765 - val_loss: 1.1645 - lr: 0.0010\n",
      "Epoch 16/100\n",
      "160/159 [==============================] - 97s 603ms/step - loss: 0.8599 - val_loss: 1.0999 - lr: 0.0010\n",
      "Epoch 17/100\n",
      "160/159 [==============================] - 96s 599ms/step - loss: 0.8221 - val_loss: 1.0216 - lr: 0.0010\n",
      "Epoch 18/100\n",
      "160/159 [==============================] - 96s 601ms/step - loss: 0.8054 - val_loss: 0.8805 - lr: 0.0010\n",
      "Epoch 19/100\n",
      "160/159 [==============================] - 97s 607ms/step - loss: 0.7920 - val_loss: 0.9926 - lr: 0.0010\n",
      "Epoch 20/100\n",
      "160/159 [==============================] - 96s 599ms/step - loss: 0.7764 - val_loss: 1.0030 - lr: 0.0010\n",
      "Epoch 21/100\n",
      "160/159 [==============================] - 98s 610ms/step - loss: 0.7669 - val_loss: 1.0351 - lr: 0.0010\n",
      "Epoch 22/100\n",
      "160/159 [==============================] - 97s 609ms/step - loss: 0.7490 - val_loss: 1.1026 - lr: 0.0010\n",
      "Epoch 23/100\n",
      "160/159 [==============================] - 96s 603ms/step - loss: 0.7202 - val_loss: 1.0267 - lr: 0.0010\n",
      "Epoch 24/100\n",
      "160/159 [==============================] - 98s 610ms/step - loss: 0.7060 - val_loss: 0.9962 - lr: 0.0010\n",
      "Epoch 25/100\n",
      "160/159 [==============================] - 97s 609ms/step - loss: 0.7004 - val_loss: 1.0878 - lr: 0.0010\n",
      "Epoch 26/100\n",
      "160/159 [==============================] - 97s 604ms/step - loss: 0.6971 - val_loss: 0.9123 - lr: 0.0010\n",
      "Epoch 27/100\n",
      "160/159 [==============================] - 98s 614ms/step - loss: 0.6662 - val_loss: 0.9804 - lr: 0.0010\n",
      "Epoch 28/100\n",
      "160/159 [==============================] - 100s 625ms/step - loss: 0.6577 - val_loss: 0.9120 - lr: 0.0010\n",
      "Epoch 29/100\n",
      "160/159 [==============================] - 100s 627ms/step - loss: 0.6480 - val_loss: 0.8372 - lr: 0.0010\n",
      "Epoch 30/100\n",
      "160/159 [==============================] - 99s 619ms/step - loss: 0.6328 - val_loss: 0.9157 - lr: 0.0010\n",
      "Epoch 31/100\n",
      "160/159 [==============================] - 99s 621ms/step - loss: 0.6165 - val_loss: 0.8186 - lr: 0.0010\n",
      "Epoch 32/100\n",
      "160/159 [==============================] - 98s 614ms/step - loss: 0.5946 - val_loss: 0.7646 - lr: 0.0010\n",
      "Epoch 33/100\n",
      "160/159 [==============================] - 99s 621ms/step - loss: 0.5921 - val_loss: 0.8252 - lr: 0.0010\n",
      "Epoch 34/100\n",
      "160/159 [==============================] - 100s 626ms/step - loss: 0.5711 - val_loss: 0.7575 - lr: 0.0010\n",
      "Epoch 35/100\n",
      "160/159 [==============================] - 99s 616ms/step - loss: 0.5735 - val_loss: 0.8109 - lr: 0.0010\n",
      "Epoch 36/100\n",
      "160/159 [==============================] - 100s 625ms/step - loss: 0.5623 - val_loss: 0.7517 - lr: 0.0010\n",
      "Epoch 37/100\n",
      "160/159 [==============================] - 100s 624ms/step - loss: 0.5555 - val_loss: 0.6719 - lr: 0.0010\n",
      "Epoch 38/100\n",
      "160/159 [==============================] - 99s 618ms/step - loss: 0.5502 - val_loss: 0.6781 - lr: 0.0010\n",
      "Epoch 39/100\n",
      "160/159 [==============================] - 100s 626ms/step - loss: 0.5387 - val_loss: 0.5241 - lr: 0.0010\n",
      "Epoch 40/100\n",
      "160/159 [==============================] - 101s 629ms/step - loss: 0.5344 - val_loss: 0.7356 - lr: 0.0010\n",
      "Epoch 41/100\n",
      "160/159 [==============================] - 98s 615ms/step - loss: 0.5182 - val_loss: 0.7746 - lr: 0.0010\n",
      "Epoch 42/100\n",
      "160/159 [==============================] - 101s 629ms/step - loss: 0.5090 - val_loss: 0.7583 - lr: 0.0010\n",
      "Epoch 43/100\n",
      "160/159 [==============================] - 101s 631ms/step - loss: 0.5111 - val_loss: 0.6989 - lr: 0.0010\n",
      "Epoch 44/100\n",
      "160/159 [==============================] - 100s 624ms/step - loss: 0.4942 - val_loss: 0.6157 - lr: 0.0010\n",
      "Epoch 45/100\n",
      "160/159 [==============================] - 100s 627ms/step - loss: 0.4710 - val_loss: 0.6035 - lr: 0.0010\n",
      "Epoch 46/100\n",
      "160/159 [==============================] - 101s 632ms/step - loss: 0.4771 - val_loss: 0.6421 - lr: 0.0010\n",
      "Epoch 47/100\n",
      "160/159 [==============================] - 99s 619ms/step - loss: 0.4559 - val_loss: 0.8551 - lr: 0.0010\n",
      "Epoch 48/100\n",
      "160/159 [==============================] - 101s 629ms/step - loss: 0.4853 - val_loss: 0.6741 - lr: 0.0010\n",
      "Epoch 49/100\n",
      "160/159 [==============================] - 101s 633ms/step - loss: 0.4542 - val_loss: 0.5585 - lr: 0.0010\n",
      "Epoch 50/100\n",
      "160/159 [==============================] - 100s 627ms/step - loss: 0.4412 - val_loss: 0.7226 - lr: 0.0010\n",
      "Epoch 51/100\n",
      "160/159 [==============================] - 99s 619ms/step - loss: 0.4315 - val_loss: 0.6858 - lr: 0.0010\n",
      "Epoch 52/100\n",
      "160/159 [==============================] - 102s 639ms/step - loss: 0.4460 - val_loss: 0.5549 - lr: 0.0010\n",
      "Epoch 53/100\n",
      "160/159 [==============================] - ETA: 0s - loss: 0.4533\n",
      "Epoch 00053: ReduceLROnPlateau reducing learning rate to 0.00010000000474974513.\n",
      "160/159 [==============================] - 101s 630ms/step - loss: 0.4533 - val_loss: 0.7794 - lr: 0.0010\n",
      "Epoch 54/100\n",
      "160/159 [==============================] - 101s 634ms/step - loss: 0.3845 - val_loss: 0.4872 - lr: 1.0000e-04\n",
      "Epoch 55/100\n",
      "160/159 [==============================] - 102s 637ms/step - loss: 0.3499 - val_loss: 0.3989 - lr: 1.0000e-04\n",
      "Epoch 56/100\n",
      "160/159 [==============================] - 101s 633ms/step - loss: 0.3235 - val_loss: 0.3418 - lr: 1.0000e-04\n",
      "Epoch 57/100\n",
      "160/159 [==============================] - 100s 627ms/step - loss: 0.3116 - val_loss: 0.2966 - lr: 1.0000e-04\n",
      "Epoch 58/100\n",
      "160/159 [==============================] - 102s 640ms/step - loss: 0.3086 - val_loss: 0.2466 - lr: 1.0000e-04\n",
      "Epoch 59/100\n",
      "160/159 [==============================] - 100s 625ms/step - loss: 0.2985 - val_loss: 0.2396 - lr: 1.0000e-04\n",
      "Epoch 60/100\n",
      "160/159 [==============================] - 100s 624ms/step - loss: 0.2863 - val_loss: 0.2164 - lr: 1.0000e-04\n",
      "Epoch 61/100\n",
      "160/159 [==============================] - 102s 637ms/step - loss: 0.2850 - val_loss: 0.2079 - lr: 1.0000e-04\n",
      "Epoch 62/100\n",
      "160/159 [==============================] - 102s 636ms/step - loss: 0.2820 - val_loss: 0.2347 - lr: 1.0000e-04\n",
      "Epoch 63/100\n",
      "160/159 [==============================] - 103s 641ms/step - loss: 0.2761 - val_loss: 0.2075 - lr: 1.0000e-04\n",
      "Epoch 64/100\n",
      "160/159 [==============================] - 104s 648ms/step - loss: 0.2677 - val_loss: 0.1784 - lr: 1.0000e-04\n",
      "Epoch 65/100\n",
      "160/159 [==============================] - 101s 630ms/step - loss: 0.2683 - val_loss: 0.2107 - lr: 1.0000e-04\n",
      "Epoch 66/100\n",
      "160/159 [==============================] - 103s 641ms/step - loss: 0.2654 - val_loss: 0.2082 - lr: 1.0000e-04\n",
      "Epoch 67/100\n",
      "160/159 [==============================] - 102s 638ms/step - loss: 0.2641 - val_loss: 0.2003 - lr: 1.0000e-04\n",
      "Epoch 68/100\n",
      "160/159 [==============================] - 103s 644ms/step - loss: 0.2644 - val_loss: 0.1971 - lr: 1.0000e-04\n",
      "Epoch 69/100\n",
      "160/159 [==============================] - 103s 643ms/step - loss: 0.2555 - val_loss: 0.2018 - lr: 1.0000e-04\n",
      "Epoch 70/100\n",
      "160/159 [==============================] - 100s 628ms/step - loss: 0.2559 - val_loss: 0.2058 - lr: 1.0000e-04\n",
      "Epoch 71/100\n",
      "160/159 [==============================] - 101s 632ms/step - loss: 0.2474 - val_loss: 0.2096 - lr: 1.0000e-04\n",
      "Epoch 72/100\n",
      "160/159 [==============================] - 103s 641ms/step - loss: 0.2443 - val_loss: 0.1927 - lr: 1.0000e-04\n",
      "Epoch 73/100\n",
      "160/159 [==============================] - 103s 646ms/step - loss: 0.2410 - val_loss: 0.1911 - lr: 1.0000e-04\n",
      "Epoch 74/100\n",
      "160/159 [==============================] - 100s 623ms/step - loss: 0.2358 - val_loss: 0.1822 - lr: 1.0000e-04\n",
      "Epoch 75/100\n",
      "160/159 [==============================] - 103s 641ms/step - loss: 0.2352 - val_loss: 0.2134 - lr: 1.0000e-04\n",
      "Epoch 76/100\n",
      "160/159 [==============================] - 104s 650ms/step - loss: 0.2350 - val_loss: 0.1866 - lr: 1.0000e-04\n",
      "Epoch 77/100\n",
      "160/159 [==============================] - 98s 612ms/step - loss: 0.2312 - val_loss: 0.2039 - lr: 1.0000e-04\n",
      "Epoch 78/100\n",
      "160/159 [==============================] - 101s 630ms/step - loss: 0.2306 - val_loss: 0.1786 - lr: 1.0000e-04\n",
      "Epoch 79/100\n",
      "160/159 [==============================] - 98s 614ms/step - loss: 0.2310 - val_loss: 0.1774 - lr: 1.0000e-04\n",
      "Epoch 80/100\n",
      "160/159 [==============================] - 101s 631ms/step - loss: 0.2279 - val_loss: 0.1854 - lr: 1.0000e-04\n",
      "Epoch 81/100\n",
      "160/159 [==============================] - 98s 610ms/step - loss: 0.2259 - val_loss: 0.1836 - lr: 1.0000e-04\n",
      "Epoch 82/100\n",
      "160/159 [==============================] - 101s 632ms/step - loss: 0.2127 - val_loss: 0.1814 - lr: 1.0000e-04\n",
      "Epoch 83/100\n",
      "160/159 [==============================] - 98s 612ms/step - loss: 0.2188 - val_loss: 0.2077 - lr: 1.0000e-04\n",
      "Epoch 84/100\n",
      "160/159 [==============================] - ETA: 0s - loss: 0.2195\n",
      "Epoch 00084: ReduceLROnPlateau reducing learning rate to 1.0000000474974514e-05.\n",
      "160/159 [==============================] - 100s 626ms/step - loss: 0.2195 - val_loss: 0.1895 - lr: 1.0000e-04\n",
      "Epoch 85/100\n",
      "160/159 [==============================] - 98s 613ms/step - loss: 0.2138 - val_loss: 0.1898 - lr: 1.0000e-05\n",
      "Epoch 86/100\n",
      "160/159 [==============================] - ETA: 0s - loss: 0.2148\n",
      "Epoch 00086: ReduceLROnPlateau reducing learning rate to 1.0000000656873453e-06.\n",
      "160/159 [==============================] - 101s 631ms/step - loss: 0.2148 - val_loss: 0.1551 - lr: 1.0000e-05\n",
      "Epoch 87/100\n",
      "160/159 [==============================] - 98s 611ms/step - loss: 0.2086 - val_loss: 0.1852 - lr: 1.0000e-06\n",
      "Epoch 88/100\n",
      "160/159 [==============================] - 98s 615ms/step - loss: 0.2113 - val_loss: 0.1632 - lr: 1.0000e-06\n",
      "Epoch 89/100\n",
      "160/159 [==============================] - ETA: 0s - loss: 0.2118\n",
      "Epoch 00089: ReduceLROnPlateau reducing learning rate to 1.0000001111620805e-07.\n",
      "160/159 [==============================] - 102s 634ms/step - loss: 0.2118 - val_loss: 0.1665 - lr: 1.0000e-06\n",
      "Epoch 90/100\n",
      "160/159 [==============================] - 98s 611ms/step - loss: 0.2112 - val_loss: 0.1538 - lr: 1.0000e-07\n",
      "Epoch 91/100\n",
      "160/159 [==============================] - ETA: 0s - loss: 0.2207\n",
      "Epoch 00091: ReduceLROnPlateau reducing learning rate to 1.000000082740371e-08.\n",
      "160/159 [==============================] - 102s 636ms/step - loss: 0.2207 - val_loss: 0.1664 - lr: 1.0000e-07\n",
      "Epoch 92/100\n",
      "160/159 [==============================] - 99s 616ms/step - loss: 0.2087 - val_loss: 0.1914 - lr: 1.0000e-08\n",
      "Epoch 93/100\n",
      "160/159 [==============================] - 101s 630ms/step - loss: 0.2076 - val_loss: 0.1853 - lr: 1.0000e-08\n",
      "Epoch 94/100\n",
      "160/159 [==============================] - 98s 615ms/step - loss: 0.2134 - val_loss: 0.1855 - lr: 1.0000e-08\n",
      "Epoch 95/100\n",
      "160/159 [==============================] - ETA: 0s - loss: 0.2099\n",
      "Epoch 00095: ReduceLROnPlateau reducing learning rate to 1.000000082740371e-09.\n",
      "160/159 [==============================] - 102s 636ms/step - loss: 0.2099 - val_loss: 0.1658 - lr: 1.0000e-08\n",
      "Epoch 96/100\n",
      "160/159 [==============================] - 98s 615ms/step - loss: 0.2076 - val_loss: 0.1903 - lr: 1.0000e-09\n",
      "Epoch 97/100\n",
      "160/159 [==============================] - ETA: 0s - loss: 0.2104\n",
      "Epoch 00097: ReduceLROnPlateau reducing learning rate to 1.000000082740371e-10.\n",
      "160/159 [==============================] - 103s 643ms/step - loss: 0.2104 - val_loss: 0.1690 - lr: 1.0000e-09\n",
      "Epoch 98/100\n",
      "160/159 [==============================] - 100s 623ms/step - loss: 0.2071 - val_loss: 0.1675 - lr: 1.0000e-10\n",
      "Epoch 99/100\n",
      "160/159 [==============================] - 102s 639ms/step - loss: 0.2101 - val_loss: 0.1924 - lr: 1.0000e-10\n",
      "Epoch 100/100\n",
      "160/159 [==============================] - ETA: 0s - loss: 0.2148\n",
      "Epoch 00100: ReduceLROnPlateau reducing learning rate to 1.000000082740371e-11.\n",
      "160/159 [==============================] - 101s 633ms/step - loss: 0.2148 - val_loss: 0.1915 - lr: 1.0000e-10\n"
     ]
    }
   ],
   "source": [
    "history=model.fit(train_generator, epochs=100, steps_per_epoch=train_generator.samples/128, \n",
    "                  validation_data=validation_generator, validation_steps=validation_generator.samples/128,\n",
    "                 callbacks=[lr_reduce])"
   ]
  },
  {
   "cell_type": "code",
   "execution_count": 9,
   "metadata": {
    "execution": {
     "iopub.execute_input": "2020-08-15T14:45:44.567425Z",
     "iopub.status.busy": "2020-08-15T14:45:44.557208Z",
     "iopub.status.idle": "2020-08-15T14:45:45.014025Z",
     "shell.execute_reply": "2020-08-15T14:45:45.013484Z"
    },
    "papermill": {
     "duration": 6.013785,
     "end_time": "2020-08-15T14:45:45.014175",
     "exception": false,
     "start_time": "2020-08-15T14:45:39.000390",
     "status": "completed"
    },
    "tags": []
   },
   "outputs": [],
   "source": [
    "model.save('DeepMaskFacev10.h5')"
   ]
  },
  {
   "cell_type": "code",
   "execution_count": 10,
   "metadata": {
    "execution": {
     "iopub.execute_input": "2020-08-15T14:45:56.432518Z",
     "iopub.status.busy": "2020-08-15T14:45:56.429390Z",
     "iopub.status.idle": "2020-08-15T14:45:56.675439Z",
     "shell.execute_reply": "2020-08-15T14:45:56.674782Z"
    },
    "papermill": {
     "duration": 5.880399,
     "end_time": "2020-08-15T14:45:56.675562",
     "exception": false,
     "start_time": "2020-08-15T14:45:50.795163",
     "status": "completed"
    },
    "tags": []
   },
   "outputs": [
    {
     "data": {
      "image/png": "[encoded data removed]",
      "text/plain": [
       "<Figure size 432x288 with 1 Axes>"
      ]
     },
     "metadata": {
      "needs_background": "light"
     },
     "output_type": "display_data"
    }
   ],
   "source": [
    "import matplotlib.pyplot as plt\n",
    "plt.plot(history.history['loss'])\n",
    "plt.plot(history.history['val_loss'])\n",
    "plt.show()"
   ]
  }
 ],
 "metadata": {
  "kernelspec": {
   "display_name": "Python 3",
   "language": "python",
   "name": "python3"
  },
  "language_info": {
   "codemirror_mode": {
    "name": "ipython",
    "version": 3
   },
   "file_extension": ".py",
   "mimetype": "text/x-python",
   "name": "python",
   "nbconvert_exporter": "python",
   "pygments_lexer": "ipython3",
   "version": "3.7.3"
  },
  "papermill": {
   "duration": 10160.404551,
   "end_time": "2020-08-15T14:46:04.158863",
   "environment_variables": {},
   "exception": null,
   "input_path": "__notebook__.ipynb",
   "output_path": "__notebook__.ipynb",
   "parameters": {},
   "start_time": "2020-08-15T11:56:43.754312",
   "version": "2.1.0"
  }
 },
 "nbformat": 4,
 "nbformat_minor": 4
}
